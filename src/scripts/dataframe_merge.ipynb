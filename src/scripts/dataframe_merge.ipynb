{
 "cells": [
  {
   "cell_type": "code",
   "execution_count": 1,
   "metadata": {
    "collapsed": true
   },
   "outputs": [],
   "source": [
    "import os\n",
    "import glob\n",
    "import matplotlib as plt\n",
    "from matplotlib import style\n",
    "import pandas as pd\n",
    "import numpy as np\n",
    "from sklearn.cluster import KMeans\n",
    "from sklearn.decomposition import PCA\n",
    "from sklearn import preprocessing, cross_validation\n",
    "%matplotlib inline\n",
    "style.use('ggplot')"
   ]
  },
  {
   "cell_type": "code",
   "execution_count": 2,
   "metadata": {
    "collapsed": true
   },
   "outputs": [],
   "source": [
    "# source directory path.\n",
    "src_dir = r\"C:\\Users\\chsoon\\Desktop\\airline_case\\Monthly Data\"\n",
    "\n",
    "# define paths to each file in Monthly Data directory.\n",
    "# csv_1 = r\"C:\\Users\\chsoon\\Desktop\\airline_case\\Monthly Data\\1.csv\"\n",
    "# csv_2 = r\"C:\\Users\\chsoon\\Desktop\\airline_case\\Monthly Data\\2.csv\"\n",
    "# csv_3 = r\"C:\\Users\\chsoon\\Desktop\\airline_case\\Monthly Data\\3.csv\"\n",
    "\n",
    "# create list of each file directory.\n",
    "all_files = glob.glob(src_dir + \"/*.csv\")\n",
    "# print all_files\n",
    "\n",
    "# concatenate all files into single dataframe.\n",
    "main_df = pd.DataFrame()\n",
    "main_list = []\n",
    "\n",
    "for file in all_files:\n",
    "    df = pd.read_csv(file, index_col=None, header=0)\n",
    "    main_list.append(df)\n",
    "main_df = pd.concat(main_list)\n",
    "\n",
    "# count number of rows in main dataframe.\n",
    "# main_df.shape[0]\n",
    "# check dimensions of main dataframe.\n",
    "main_df.shape\n",
    "\n",
    "# lookup tables paths.\n",
    "airport_id_dir = r\"C:\\Users\\chsoon\\Desktop\\airline_case\\Lookup Tables\\L_AIRPORT_ID.csv\"\n",
    "carrier_hist_dir = r\"C:\\Users\\chsoon\\Desktop\\airline_case\\Lookup Tables\\L_CARRIER_HISTORY.csv\"\n",
    "\n",
    "# create lookup table dataframes.\n",
    "airport_id_df = pd.read_csv(airport_id_dir)\n",
    "carrier_hist_df = pd.read_csv(carrier_hist_dir)"
   ]
  },
  {
   "cell_type": "code",
   "execution_count": 10,
   "metadata": {
    "collapsed": false
   },
   "outputs": [],
   "source": [
    "airport_id_df.rename(columns={'Code':'ORIGIN_AIRPORT_ID', 'Description':'AIRPORT_NAME'}, inplace=True)\n",
    "main_df = pd.merge(main_df, airport_id_df, on = 'ORIGIN_AIRPORT_ID')"
   ]
  }
 ],
 "metadata": {
  "anaconda-cloud": {},
  "kernelspec": {
   "display_name": "Python [conda root]",
   "language": "python",
   "name": "conda-root-py"
  },
  "language_info": {
   "codemirror_mode": {
    "name": "ipython",
    "version": 2
   },
   "file_extension": ".py",
   "mimetype": "text/x-python",
   "name": "python",
   "nbconvert_exporter": "python",
   "pygments_lexer": "ipython2",
   "version": "2.7.12"
  }
 },
 "nbformat": 4,
 "nbformat_minor": 0
}
