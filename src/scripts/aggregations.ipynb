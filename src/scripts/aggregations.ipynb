{
 "cells": [
  {
   "cell_type": "code",
   "execution_count": 2,
   "metadata": {
    "collapsed": false
   },
   "outputs": [
    {
     "data": {
      "text/plain": [
       "['FL_DATE',\n",
       " 'UNIQUE_CARRIER',\n",
       " 'AIRLINE_ID',\n",
       " 'CARRIER',\n",
       " 'TAIL_NUM',\n",
       " 'FL_NUM',\n",
       " 'ORIGIN_AIRPORT_ID',\n",
       " 'ORIGIN_AIRPORT_SEQ_ID',\n",
       " 'ORIGIN_CITY_MARKET_ID',\n",
       " 'ORIGIN',\n",
       " 'ORIGIN_CITY_NAME',\n",
       " 'ORIGIN_STATE_ABR',\n",
       " 'ORIGIN_STATE_FIPS',\n",
       " 'ORIGIN_STATE_NM',\n",
       " 'ORIGIN_WAC',\n",
       " 'DEST_AIRPORT_ID',\n",
       " 'DEST_AIRPORT_SEQ_ID',\n",
       " 'DEST_CITY_MARKET_ID',\n",
       " 'DEST',\n",
       " 'DEST_CITY_NAME',\n",
       " 'DEST_STATE_ABR',\n",
       " 'DEST_STATE_FIPS',\n",
       " 'DEST_STATE_NM',\n",
       " 'DEST_WAC',\n",
       " 'CRS_DEP_TIME',\n",
       " 'DEP_TIME',\n",
       " 'DEP_DELAY',\n",
       " 'DEP_DELAY_NEW',\n",
       " 'DEP_DEL15',\n",
       " 'DEP_DELAY_GROUP',\n",
       " 'DEP_TIME_BLK',\n",
       " 'TAXI_OUT',\n",
       " 'WHEELS_OFF',\n",
       " 'WHEELS_ON',\n",
       " 'TAXI_IN',\n",
       " 'CRS_ARR_TIME',\n",
       " 'ARR_TIME',\n",
       " 'ARR_DELAY',\n",
       " 'ARR_DELAY_NEW',\n",
       " 'ARR_DEL15',\n",
       " 'ARR_DELAY_GROUP',\n",
       " 'ARR_TIME_BLK',\n",
       " 'CANCELLED',\n",
       " 'DIVERTED',\n",
       " 'CRS_ELAPSED_TIME',\n",
       " 'ACTUAL_ELAPSED_TIME',\n",
       " 'AIR_TIME',\n",
       " 'FLIGHTS',\n",
       " 'DISTANCE',\n",
       " 'DISTANCE_GROUP',\n",
       " 'Unnamed: 50',\n",
       " 'AIRPORT_NAME',\n",
       " 'CARRIER_HIST',\n",
       " 'ACTUAL_DEP_DELAY',\n",
       " 'ACTUAL_ARR_DELAY']"
      ]
     },
     "execution_count": 2,
     "metadata": {},
     "output_type": "execute_result"
    }
   ],
   "source": [
    "import os\n",
    "import glob\n",
    "import matplotlib.pyplot as plt\n",
    "from matplotlib import style\n",
    "import pandas as pd\n",
    "import numpy as np\n",
    "from sklearn.cluster import KMeans\n",
    "from sklearn.decomposition import PCA\n",
    "from sklearn import preprocessing, cross_validation\n",
    "%matplotlib inline\n",
    "\n",
    "\n",
    "\n",
    "# source file directory.\n",
    "src_dir = r\"C:\\Users\\chsoon\\Desktop\\airline_case\\Monthly Data\"\n",
    "\n",
    "# create list of all files in source directory.\n",
    "all_files = glob.glob(src_dir + \"/*.csv\")\n",
    "\n",
    "# concatenate all files into single dataframe.\n",
    "main_df = pd.DataFrame()\n",
    "main_list = []\n",
    "for file in all_files:\n",
    "    df = pd.read_csv(file, index_col=None, header=0)\n",
    "    main_list.append(df)\n",
    "main_df = pd.concat(main_list)\n",
    "\n",
    "\n",
    "airport_id_dir = r\"C:\\Users\\chsoon\\Desktop\\airline_case\\Lookup Tables\\L_AIRPORT_ID.csv\"\n",
    "carrier_hist_dir = r\"C:\\Users\\chsoon\\Desktop\\airline_case\\Lookup Tables\\L_CARRIER_HISTORY.csv\"\n",
    "\n",
    "# create lookup table dataframes.\n",
    "airport_id_df = pd.read_csv(airport_id_dir)\n",
    "carrier_hist_df = pd.read_csv(carrier_hist_dir)\n",
    "\n",
    "# merge all dataframes on airport id, unique carrier name. \n",
    "airport_id_df.rename(columns={'Code':'ORIGIN_AIRPORT_ID', 'Description':'AIRPORT_NAME'}, inplace=True)\n",
    "main_df = pd.merge(main_df, airport_id_df, on='ORIGIN_AIRPORT_ID')\n",
    "carrier_hist_df.rename(columns={'Code':'UNIQUE_CARRIER', 'Description':'CARRIER_HIST'}, inplace=True)\n",
    "main_df = pd.merge(main_df, carrier_hist_df, on='UNIQUE_CARRIER')\n",
    "\n",
    "# create new columns\n",
    "# main_df[\"AIR_TIME_HOURS\"] = main_df[\"AIR_TIME\"] / 60\n",
    "main_df['ACTUAL_DEP_DELAY'] = main_df['DEP_DELAY'] > 0\n",
    "main_df['ACTUAL_ARR_DELAY'] = main_df['ARR_DELAY'] > 0\n",
    "\n",
    "main_df.columns.values.tolist()"
   ]
  },
  {
   "cell_type": "code",
   "execution_count": null,
   "metadata": {
    "collapsed": false
   },
   "outputs": [],
   "source": [
    "main_df.head(10)"
   ]
  },
  {
   "cell_type": "code",
   "execution_count": 1,
   "metadata": {
    "collapsed": false
   },
   "outputs": [
    {
     "ename": "NameError",
     "evalue": "name 'main_df' is not defined",
     "output_type": "error",
     "traceback": [
      "\u001b[1;31m---------------------------------------------------------------------------\u001b[0m",
      "\u001b[1;31mNameError\u001b[0m                                 Traceback (most recent call last)",
      "\u001b[1;32m<ipython-input-1-d44b874f3e12>\u001b[0m in \u001b[0;36m<module>\u001b[1;34m()\u001b[0m\n\u001b[0;32m      1\u001b[0m \u001b[1;31m# What carrier has flown the third most number of flights? ANSWER: Atlantic Southeast Airlines, 686,021 flights.\u001b[0m\u001b[1;33m\u001b[0m\u001b[1;33m\u001b[0m\u001b[0m\n\u001b[1;32m----> 2\u001b[1;33m \u001b[0mmain_df\u001b[0m\u001b[1;33m.\u001b[0m\u001b[0mgroupby\u001b[0m\u001b[1;33m(\u001b[0m\u001b[1;34m'CARRIER_HIST'\u001b[0m\u001b[1;33m)\u001b[0m\u001b[1;33m.\u001b[0m\u001b[0mFLIGHTS\u001b[0m\u001b[1;33m.\u001b[0m\u001b[0mvalue_counts\u001b[0m\u001b[1;33m(\u001b[0m\u001b[1;33m)\u001b[0m\u001b[1;33m.\u001b[0m\u001b[0msort_values\u001b[0m\u001b[1;33m(\u001b[0m\u001b[0mascending\u001b[0m\u001b[1;33m=\u001b[0m\u001b[0mFalse\u001b[0m\u001b[1;33m)\u001b[0m\u001b[1;33m\u001b[0m\u001b[0m\n\u001b[0m",
      "\u001b[1;31mNameError\u001b[0m: name 'main_df' is not defined"
     ]
    }
   ],
   "source": [
    "# What carrier has flown the third most number of flights? ANSWER: Atlantic Southeast Airlines, 686,021 flights.\n",
    "main_df.groupby('CARRIER_HIST').FLIGHTS.value_counts().sort_values(ascending=False)"
   ]
  },
  {
   "cell_type": "code",
   "execution_count": null,
   "metadata": {
    "collapsed": false
   },
   "outputs": [],
   "source": [
    "# What is the 15th most flown route? ANSWER: Nashville, TN - Chicago, IL, 13,818 flights.\n",
    "route_df = main_df[['ORIGIN_CITY_NAME', 'DEST_CITY_NAME', 'FLIGHTS']]\n",
    "route_df['ROUTE'] = route_df['ORIGIN_CITY_NAME'] + ' - ' + route_df['DEST_CITY_NAME']\n",
    "route_df.groupby('ROUTE').FLIGHTS.value_counts().sort_values(ascending=False)"
   ]
  },
  {
   "cell_type": "code",
   "execution_count": null,
   "metadata": {
    "collapsed": false
   },
   "outputs": [],
   "source": [
    "# What is the second most popular day of the week to travel? Why? ANSWER: Wednesday, 1,167,033 flights.  \n",
    "main_df['MY_DATE'] = pd.to_datetime(main_df['FL_DATE'])\n",
    "main_df['DAY'] = main_df['MY_DATE'].dt.weekday_name\n",
    "main_df.groupby('DAY').FLIGHTS.value_counts().sort_values(ascending=False)"
   ]
  },
  {
   "cell_type": "code",
   "execution_count": null,
   "metadata": {
    "collapsed": false
   },
   "outputs": [],
   "source": [
    "# What airport has the tenth most delays? ANSWER: New York, NY: LaGuardia, 168,083 delays.  \n",
    "main_df['ACTUAL_DEP_DELAY'] = main_df['DEP_DELAY'] > 0\n",
    "main_df['ACTUAL_ARR_DELAY'] = main_df['ARR_DELAY'] > 0\n",
    "main_df.groupby('AIRPORT_NAME').FLIGHTS.value_counts(('ACTUAL_DEP_DELAY' == True) & ('ACTUAL_ARR_DELAY' == True)).sort_values(ascending=False)"
   ]
  },
  {
   "cell_type": "code",
   "execution_count": null,
   "metadata": {
    "collapsed": false
   },
   "outputs": [],
   "source": [
    "# What carrier has the most air time?\n",
    "main_df.groupby('CARRIER_HIST').AIR_TIME.sum().sort_values(ascending=False)"
   ]
  }
 ],
 "metadata": {
  "anaconda-cloud": {},
  "kernelspec": {
   "display_name": "Python [conda root]",
   "language": "python",
   "name": "conda-root-py"
  },
  "language_info": {
   "codemirror_mode": {
    "name": "ipython",
    "version": 2
   },
   "file_extension": ".py",
   "mimetype": "text/x-python",
   "name": "python",
   "nbconvert_exporter": "python",
   "pygments_lexer": "ipython2",
   "version": "2.7.12"
  }
 },
 "nbformat": 4,
 "nbformat_minor": 0
}
