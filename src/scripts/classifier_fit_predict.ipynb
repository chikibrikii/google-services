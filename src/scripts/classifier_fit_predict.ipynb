{
 "cells": [
  {
   "cell_type": "code",
   "execution_count": null,
   "metadata": {
    "collapsed": true
   },
   "outputs": [],
   "source": [
    "import os\n",
    "import glob\n",
    "import matplotlib as plt\n",
    "from matplotlib import style\n",
    "import pandas as pd\n",
    "import numpy as np\n",
    "from sklearn.cluster import KMeans\n",
    "from sklearn.decomposition import PCA\n",
    "from sklearn import preprocessing, cross_validation\n",
    "%matplotlib inline\n",
    "style.use('ggplot')\n",
    "\n",
    "\n",
    "# source directory path.\n",
    "src_dir = r\"C:\\Users\\chsoon\\Desktop\\airline_case\\Monthly Data\"\n",
    "\n",
    "# create a list containing each file directory path.\n",
    "all_files = glob.glob(src_dir + \"/*.csv\")\n",
    "\n",
    "# concatenate all files into single dataframe.\n",
    "main_df = pd.DataFrame()\n",
    "main_list = []\n",
    "for file in all_files:\n",
    "    df = pd.read_csv(file, index_col=None, header=0)\n",
    "    main_list.append(df)\n",
    "main_df = pd.concat(main_list)\n",
    "\n",
    "# lookup tables' paths.\n",
    "airport_id_dir = r\"C:\\Users\\chsoon\\Desktop\\airline_case\\Lookup Tables\\L_AIRPORT_ID.csv\"\n",
    "carrier_hist_dir = r\"C:\\Users\\chsoon\\Desktop\\airline_case\\Lookup Tables\\L_CARRIER_HISTORY.csv\"\n",
    "\n",
    "# create respective lookup table dataframes.\n",
    "airport_id_df = pd.read_csv(airport_id_dir)\n",
    "carrier_hist_df = pd.read_csv(carrier_hist_dir)"
   ]
  },
  {
   "cell_type": "code",
   "execution_count": null,
   "metadata": {
    "collapsed": false
   },
   "outputs": [],
   "source": [
    "# drop all date and id fields.\n",
    "main_df.drop(['FL_DATE',\n",
    "              'AIRLINE_ID', \n",
    "              'DEST_AIRPORT_ID',\n",
    "              'DEST_AIRPORT_SEQ_ID',\n",
    "              'DEST_CITY_MARKET_ID',\n",
    "              'ORIGIN_AIRPORT_ID',\n",
    "              'ORIGIN_AIRPORT_SEQ_ID',\n",
    "              'ORIGIN_CITY_MARKET_ID'], 1, inplace=True)\n",
    "\n",
    "# convert all values to numeric type, if not int64 or float.\n",
    "main_df.convert_objects(convert_numeric=True)\n",
    "main_df.fillna(0, inplace=True)\n",
    "\n",
    "# function to handle non-numeric data.\n",
    "def handle_non_numeric_data(df):\n",
    "    columns = df.columns.values\n",
    "    \n",
    "    for column in columns:\n",
    "        text_digit_vals = {}  # empty dict of text and unique digits.\n",
    "        def convert_to_int(val):\n",
    "            return text_digit_vals[val]\n",
    "        \n",
    "        if df[column].dtype != np.int64 and df[column].dtype != float:\n",
    "            column_contents = df[column].values.tolist()\n",
    "            unique_elements = set(column_contents)\n",
    "            x = 0\n",
    "            for unique in unique_elements:\n",
    "                if unique not in text_digit_vals:\n",
    "                    text_digit_vals[unique] = x\n",
    "                    x += 1        \n",
    "            df[column] = list(map(convert_to_int, df[column]))\n",
    "        \n",
    "    return df\n",
    "\n",
    "main_df = handle_non_numeric_data(main_df)\n",
    "# preprocess and scale data frame, but this changes the object type to non-pandas.\n",
    "# main_df = preprocessing.scale(main_df)  "
   ]
  },
  {
   "cell_type": "code",
   "execution_count": null,
   "metadata": {
    "collapsed": true
   },
   "outputs": [],
   "source": [
    "# predict the cluster assignment for each row in main data frame, writing to new CLUSTER column.\n",
    "clf = KMeans(n_clusters=3)\n",
    "main_df[\"CLUSTER\"] = clf.fit_predict(main_df)"
   ]
  },
  {
   "cell_type": "code",
   "execution_count": null,
   "metadata": {
    "collapsed": false
   },
   "outputs": [],
   "source": [
    "# PCA to create 2-D chart space.\n",
    "pca = PCA(n_components=2)\n",
    "main_df['x'] = pca.fit_transform(main_df)[:,0]\n",
    "main_df['y'] = pca.fit_transform(main_df)[:,1]\n",
    "main_df = main_df.reset_index()"
   ]
  }
 ],
 "metadata": {
  "anaconda-cloud": {},
  "kernelspec": {
   "display_name": "Python [conda root]",
   "language": "python",
   "name": "conda-root-py"
  },
  "language_info": {
   "codemirror_mode": {
    "name": "ipython",
    "version": 2
   },
   "file_extension": ".py",
   "mimetype": "text/x-python",
   "name": "python",
   "nbconvert_exporter": "python",
   "pygments_lexer": "ipython2",
   "version": "2.7.12"
  }
 },
 "nbformat": 4,
 "nbformat_minor": 0
}
